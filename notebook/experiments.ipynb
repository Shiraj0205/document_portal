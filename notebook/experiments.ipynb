{
 "cells": [
  {
   "cell_type": "code",
   "execution_count": null,
   "id": "78c44bc0",
   "metadata": {},
   "outputs": [],
   "source": [
    "print(\"All Ok\")"
   ]
  },
  {
   "cell_type": "code",
   "execution_count": null,
   "id": "7a0d04bc",
   "metadata": {},
   "outputs": [],
   "source": [
    "from langchain_groq import ChatGroq\n",
    "#from langchain_openai  import ChatOpenAI"
   ]
  },
  {
   "cell_type": "code",
   "execution_count": null,
   "id": "f531fa13",
   "metadata": {},
   "outputs": [],
   "source": [
    "# Load environment variables from .env file\n",
    "from dotenv import load_dotenv\n",
    "load_dotenv()"
   ]
  },
  {
   "cell_type": "code",
   "execution_count": null,
   "id": "0f0ee6d6",
   "metadata": {},
   "outputs": [],
   "source": [
    "# Load LLM model\n",
    "llm_model = ChatGroq(model=\"qwen/qwen3-32b\")\n",
    "llm_model.invoke(\"What is the capital of France?\").content"
   ]
  },
  {
   "cell_type": "code",
   "execution_count": null,
   "id": "1d8b4ea8",
   "metadata": {},
   "outputs": [],
   "source": [
    "# Load Embeddings model\n",
    "from langchain_google_genai import GoogleGenerativeAIEmbeddings\n",
    "embeddings_model = GoogleGenerativeAIEmbeddings(model=\"models/embedding-001\")"
   ]
  },
  {
   "cell_type": "code",
   "execution_count": null,
   "id": "269993f3",
   "metadata": {},
   "outputs": [],
   "source": [
    "embeddings_model.embed_query(\"What is the capital of France?\")"
   ]
  }
 ],
 "metadata": {
  "kernelspec": {
   "display_name": "env",
   "language": "python",
   "name": "python3"
  },
  "language_info": {
   "codemirror_mode": {
    "name": "ipython",
    "version": 3
   },
   "file_extension": ".py",
   "mimetype": "text/x-python",
   "name": "python",
   "nbconvert_exporter": "python",
   "pygments_lexer": "ipython3",
   "version": "3.10.18"
  }
 },
 "nbformat": 4,
 "nbformat_minor": 5
}
