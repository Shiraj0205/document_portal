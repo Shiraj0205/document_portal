{
 "cells": [
  {
   "cell_type": "code",
   "execution_count": null,
   "id": "0cc95fcd",
   "metadata": {},
   "outputs": [
    {
     "name": "stdout",
     "output_type": "stream",
     "text": [
      "All Okay\n"
     ]
    }
   ],
   "source": [
    "import logging\n",
    "import os\n",
    "from datetime import datetime"
   ]
  },
  {
   "cell_type": "code",
   "execution_count": 13,
   "id": "1c451275",
   "metadata": {},
   "outputs": [],
   "source": [
    "log_dir = os.path.join(os.getcwd(), \"logs\")\n",
    "os.makedirs(log_dir, exist_ok=True)\n",
    "LOG_FILE = datetime.now().strftime(\"%Y-%m-%d_%H-%M-%S\") + \".log\"\n",
    "LOG_FILE_PATH = os.path.join(log_dir, LOG_FILE)"
   ]
  },
  {
   "cell_type": "code",
   "execution_count": 15,
   "id": "145fa255",
   "metadata": {},
   "outputs": [],
   "source": [
    "logging.basicConfig(\n",
    "    level=logging.INFO,\n",
    "    format=\"%(asctime)s - %(name)s - %(levelname)s - %(message)s\",\n",
    "    filename=LOG_FILE_PATH,\n",
    "    filemode=\"w\")\n",
    "\n",
    "logger = logging.getLogger(__name__)\n",
    "logger.info(\"Logging setup complete.\")\n",
    "\n"
   ]
  }
 ],
 "metadata": {
  "kernelspec": {
   "display_name": "Python 3",
   "language": "python",
   "name": "python3"
  },
  "language_info": {
   "codemirror_mode": {
    "name": "ipython",
    "version": 3
   },
   "file_extension": ".py",
   "mimetype": "text/x-python",
   "name": "python",
   "nbconvert_exporter": "python",
   "pygments_lexer": "ipython3",
   "version": "3.10.18"
  }
 },
 "nbformat": 4,
 "nbformat_minor": 5
}
