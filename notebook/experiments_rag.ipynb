{
 "cells": [
  {
   "cell_type": "code",
   "execution_count": 20,
   "id": "f531fa13",
   "metadata": {},
   "outputs": [
    {
     "data": {
      "text/plain": [
       "True"
      ]
     },
     "execution_count": 20,
     "metadata": {},
     "output_type": "execute_result"
    }
   ],
   "source": [
    "# Load environment variables from .env file\n",
    "from dotenv import load_dotenv\n",
    "load_dotenv()"
   ]
  },
  {
   "cell_type": "code",
   "execution_count": 21,
   "id": "0f0ee6d6",
   "metadata": {},
   "outputs": [],
   "source": [
    "from langchain.document_loaders import PyPDFLoader\n",
    "from langchain.text_splitter import RecursiveCharacterTextSplitter\n",
    "import os"
   ]
  },
  {
   "cell_type": "code",
   "execution_count": 22,
   "id": "2b83ddee",
   "metadata": {},
   "outputs": [],
   "source": [
    "from langchain_groq import ChatGroq\n",
    "llm = ChatGroq(model=\"qwen/qwen3-32b\")"
   ]
  },
  {
   "cell_type": "code",
   "execution_count": 23,
   "id": "fcb9a740",
   "metadata": {},
   "outputs": [],
   "source": [
    "from langchain_google_genai import GoogleGenerativeAIEmbeddings\n",
    "embeddings_model = GoogleGenerativeAIEmbeddings(model=\"models/embedding-001\")\n"
   ]
  },
  {
   "cell_type": "code",
   "execution_count": 24,
   "id": "7f5123b2",
   "metadata": {},
   "outputs": [
    {
     "name": "stdout",
     "output_type": "stream",
     "text": [
      "Loaded 6 documents\n"
     ]
    }
   ],
   "source": [
    "file_path = os.path.join(os.getcwd(), \"data\", \"AuroraDynamics.pdf\")\n",
    "loader = PyPDFLoader(file_path)\n",
    "documents = loader.load()\n",
    "\n",
    "print(f\"Loaded {len(documents)} documents\")"
   ]
  },
  {
   "cell_type": "code",
   "execution_count": 25,
   "id": "5cea9faf",
   "metadata": {},
   "outputs": [
    {
     "name": "stdout",
     "output_type": "stream",
     "text": [
      "Split into 21 chunks\n"
     ]
    }
   ],
   "source": [
    "# Split the documents into chunks. To preserve the context, we use a chunk size of 500 characters and an overlap of 150 characters.\n",
    "# This means that each chunk will have 500 characters, and the next chunk will start 150 characters after the start of the previous chunk.\n",
    "text_splitter = RecursiveCharacterTextSplitter(chunk_size=500, \n",
    "                                               chunk_overlap=150, \n",
    "                                               length_function=len)\n",
    "\n",
    "\n",
    "docs = text_splitter.split_documents(documents)\n",
    "print(f\"Split into {len(docs)} chunks\")\n",
    "\n",
    "#print(f\"Document Metadata: {docs[0].metadata}...\") \n",
    "\n",
    "# Display the first 500 characters of the first chunk\n",
    "#print(f\"First chunk content: {docs[0].page_content[:500]}...\") "
   ]
  },
  {
   "cell_type": "code",
   "execution_count": null,
   "id": "358a8dfd",
   "metadata": {},
   "outputs": [
    {
     "data": {
      "text/plain": [
       "[Document(id='ea44aded-843d-40f8-b0fd-0c6050afd969', metadata={'producer': 'Microsoft® Word 2021', 'creator': 'Microsoft® Word 2021', 'creationdate': '2025-07-14T19:24:03-05:00', 'author': 'Shiraj Shaikh', 'moddate': '2025-07-14T19:24:03-05:00', 'source': 'd:\\\\Data\\\\Projects\\\\document_portal\\\\notebook\\\\data\\\\AuroraDynamics.pdf', 'total_pages': 6, 'page': 3, 'page_label': '4'}, page_content='energy. \\n \\nTop Clients \\n• Walmart Global Energy Division \\n• Tesla Gigafactories \\n• Procter & Gamble \\n• Shell Energy \\n• General Motors \\n \\nSales Turnover (Year-wise) \\n• 2014: $250K \\n• 2016: $1.8M \\n• 2018: $12M \\n• 2020: $14M \\n• 2022: $50M \\n• 2025: $200M'),\n",
       " Document(id='f92bbff9-1338-4b1a-a9bf-fceecb3ba3e0', metadata={'producer': 'Microsoft® Word 2021', 'creator': 'Microsoft® Word 2021', 'creationdate': '2025-07-14T19:24:03-05:00', 'author': 'Shiraj Shaikh', 'moddate': '2025-07-14T19:24:03-05:00', 'source': 'd:\\\\Data\\\\Projects\\\\document_portal\\\\notebook\\\\data\\\\AuroraDynamics.pdf', 'total_pages': 6, 'page': 4, 'page_label': '5'}, page_content='• Invest $50 million in R&D for green hydrogen solutions. \\n• Target IPO in 2026 with a projected valuation of $2.5 billion. \\n \\nConclusion'),\n",
       " Document(id='71ec614a-3cf1-463f-a2f0-801f9a527bd1', metadata={'producer': 'Microsoft® Word 2021', 'creator': 'Microsoft® Word 2021', 'creationdate': '2025-07-14T19:24:03-05:00', 'author': 'Shiraj Shaikh', 'moddate': '2025-07-14T19:24:03-05:00', 'source': 'd:\\\\Data\\\\Projects\\\\document_portal\\\\notebook\\\\data\\\\AuroraDynamics.pdf', 'total_pages': 6, 'page': 0, 'page_label': '1'}, page_content='solutions. He had witnessed first-hand the pain points of organizations trying to manage their \\nenergy consumption effectively. Rising energy bills, lack of sustainability metrics, and outdated \\nsystems plagued the industry. \\nThe idea struck him during a casual conversation with a friend who managed a mid-sized \\nmanufacturing plant. The friend complained, “Our energy costs are spiraling out of control. We'),\n",
       " Document(id='b7d45d07-2abf-4cf6-9805-1d20cbbd1cfa', metadata={'producer': 'Microsoft® Word 2021', 'creator': 'Microsoft® Word 2021', 'creationdate': '2025-07-14T19:24:03-05:00', 'author': 'Shiraj Shaikh', 'moddate': '2025-07-14T19:24:03-05:00', 'source': 'd:\\\\Data\\\\Projects\\\\document_portal\\\\notebook\\\\data\\\\AuroraDynamics.pdf', 'total_pages': 6, 'page': 4, 'page_label': '5'}, page_content='• Education: Ph.D. in Data Science, Stanford University. \\n• Background: Ex-data scientist at EnergyX Consulting. \\n• Fun Fact: Has published 12 research papers on AI in energy optimization. \\nMichael Rivera – CFO (Age 48) \\n• Education: MBA, Harvard Business School. \\n• Background: Former VP of Finance at Dell. \\n• Fun Fact: Amateur pianist and marathon runner. \\nSofia Hernandez – Chief Marketing Officer (Age 38) \\n• Education: MBA in Marketing, Wharton School.')]"
      ]
     },
     "execution_count": 26,
     "metadata": {},
     "output_type": "execute_result"
    }
   ],
   "source": [
    "from langchain.vectorstores import FAISS\n",
    "\n",
    "#embeddings_model.embed_documents(docs[0].page_content)\n",
    "\n",
    "#In Memory - FAISS, croma\n",
    "#On Disk - Chroma, Weaviate, Pinecone, Qdrant, Milvus, Redis\n",
    "#Cloud - Pinecone, Weaviate, Qdrant, Milvus, Redis\n",
    "\n",
    "# In memory vector store\n",
    "# This will create a FAISS vector store in memory using the embeddings model\n",
    "vectorstore = FAISS.from_documents(docs, embeddings_model)\n",
    "\n",
    "# 1. Data retrieval\n",
    "relevant_docs = vectorstore.similarity_search(\"Top Clients\", k=3)\n",
    "#print(relevant_docs[0].page_content)\n",
    "\n",
    "# 2. Generation Pipeline\n",
    "retriever = vectorstore.as_retriever(k=5)\n",
    "retriever.invoke(\"key products and services\")"
   ]
  },
  {
   "cell_type": "code",
   "execution_count": 27,
   "id": "7f539453",
   "metadata": {},
   "outputs": [],
   "source": [
    "\n",
    "from langchain.prompts import PromptTemplate\n",
    "\n",
    "prompt_template = \"\"\"\n",
    "You are a helpful assistant. Use the following pieces of context to answer the question at the end.\n",
    "If you dont know the answer, just say that you don't know. Do not try to make up an answer.\n",
    "Contect : {context}\n",
    "Question: {question}\n",
    "Answer:\n",
    "\"\"\"\n",
    "\n",
    "prompt = PromptTemplate(template=prompt_template, input_variables=[\"context\", \"question\"])\n"
   ]
  },
  {
   "cell_type": "code",
   "execution_count": 28,
   "id": "dc196842",
   "metadata": {},
   "outputs": [],
   "source": [
    "def format_docs(docs):\n",
    "    return \"\\n\\n\".join([doc.page_content for doc in docs])"
   ]
  },
  {
   "cell_type": "code",
   "execution_count": null,
   "id": "5df32642",
   "metadata": {},
   "outputs": [
    {
     "data": {
      "text/plain": [
       "\"<think>\\nOkay, let's see. The user is asking who the founder of Aurora Dynamics is. I need to look through the provided context to find the answer.\\n\\nLooking at Chapter 2: The Birth of Aurora Dynamics, it mentions that Ethan quit his job in October 2012 and formed Aurora Dynamics, Inc. in January 2013. The name Aurora symbolized a new dawn of energy efficiency. The company's mission is stated there. \\n\\nAlso, in Chapter 1: The Spark of an Idea, it refers to a young software engineer named Ethan Parker who was sitting in a coffee shop in Austin, Texas, in the summer of 2012. He had worked in tech companies for eight years, focusing on enterprise software solutions. \\n\\nPutting this together, the founder is Ethan Parker. The context clearly states that he started the company. There's no mention of any other founder or co-founder in the provided text. The other chapters talk about the company's growth and clients but don't mention other founders. So the answer should be Ethan Parker.\\n</think>\\n\\nThe founder of Aurora Dynamics is Ethan Parker.\""
      ]
     },
     "execution_count": 30,
     "metadata": {},
     "output_type": "execute_result"
    }
   ],
   "source": [
    "from langchain_core.output_parsers import StrOutputParser\n",
    "\n",
    "# Collect a question at runtime and pass it to RunnablePassthrough\n",
    "from langchain_core.runnables import RunnablePassthrough\n",
    "\n",
    "parser = StrOutputParser()\n",
    "\n",
    "# LCEL Format - Langcahin Expression Language\n",
    "# Define a RAG Chain\n",
    "rag_chain =({\"context\": retriever | format_docs, \"question\": RunnablePassthrough()}\n",
    "            | prompt\n",
    "            | llm\n",
    "            | parser)\n",
    "\n",
    "\n",
    "# Question passed to RunnablePassthrough\n",
    "#rag_chain.invoke(\"Who are the top clients of Aurora Dynamics?\")\n",
    "rag_chain.invoke(\"Who is the founder of Aurora Dynamics?\")"
   ]
  }
 ],
 "metadata": {
  "kernelspec": {
   "display_name": "Python 3",
   "language": "python",
   "name": "python3"
  },
  "language_info": {
   "codemirror_mode": {
    "name": "ipython",
    "version": 3
   },
   "file_extension": ".py",
   "mimetype": "text/x-python",
   "name": "python",
   "nbconvert_exporter": "python",
   "pygments_lexer": "ipython3",
   "version": "3.10.18"
  }
 },
 "nbformat": 4,
 "nbformat_minor": 5
}
