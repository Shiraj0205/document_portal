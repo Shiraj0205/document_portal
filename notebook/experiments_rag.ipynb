{
 "cells": [
  {
   "cell_type": "code",
   "execution_count": 1,
   "id": "f531fa13",
   "metadata": {},
   "outputs": [
    {
     "data": {
      "text/plain": [
       "True"
      ]
     },
     "execution_count": 1,
     "metadata": {},
     "output_type": "execute_result"
    }
   ],
   "source": [
    "# Load environment variables from .env file\n",
    "from dotenv import load_dotenv\n",
    "load_dotenv()"
   ]
  },
  {
   "cell_type": "code",
   "execution_count": 2,
   "id": "0f0ee6d6",
   "metadata": {},
   "outputs": [],
   "source": [
    "from langchain.document_loaders import PyPDFLoader\n",
    "from langchain.text_splitter import RecursiveCharacterTextSplitter\n",
    "import os"
   ]
  },
  {
   "cell_type": "code",
   "execution_count": 3,
   "id": "2b83ddee",
   "metadata": {},
   "outputs": [],
   "source": [
    "from langchain_groq import ChatGroq\n",
    "llm = ChatGroq(model=\"qwen/qwen3-32b\")"
   ]
  },
  {
   "cell_type": "code",
   "execution_count": 4,
   "id": "fcb9a740",
   "metadata": {},
   "outputs": [],
   "source": [
    "from langchain_google_genai import GoogleGenerativeAIEmbeddings\n",
    "embeddings_model = GoogleGenerativeAIEmbeddings(model=\"models/embedding-001\")\n"
   ]
  },
  {
   "cell_type": "code",
   "execution_count": 5,
   "id": "7f5123b2",
   "metadata": {},
   "outputs": [],
   "source": [
    "\n",
    "# Load a single PDF document\n",
    "#file_path = os.path.join(os.getcwd(), \"data\", \"AuroraDynamics.pdf\")\n",
    "#loader = PyPDFLoader(file_path)\n",
    "#documents = loader.load()\n",
    "#print(f\"Loaded {len(documents)} documents\")\n"
   ]
  },
  {
   "cell_type": "code",
   "execution_count": 6,
   "id": "be9ad36b",
   "metadata": {},
   "outputs": [
    {
     "name": "stdout",
     "output_type": "stream",
     "text": [
      "Found 10 PDF files in the data directory: ['AuroraDynamics.pdf', 'DaawatBBQ.pdf', 'FireSafety_2024.pdf', 'FireSafety_Partial_Requirements.pdf', 'GraphQL.pdf', 'Personal-Fitness.pdf', 'StyleCop.pdf', 'WebParts.pdf', 'What is Agile.pdf', 'XML.pdf']\n"
     ]
    }
   ],
   "source": [
    "# load all the documents from the directory\n",
    "data_directory = os.path.join(os.getcwd(), \"data\")\n",
    "pdf_files = [f for f in os.listdir(data_directory) if f.endswith('.pdf')]\n",
    "print(f\"Found {len(pdf_files)} PDF files in the data directory: {pdf_files}\")\n",
    "\n",
    "# Load all documents from the directory\n",
    "documents = []\n",
    "for pdf_file in pdf_files:\n",
    "    file_path = os.path.join(data_directory, pdf_file)\n",
    "    loader = PyPDFLoader(file_path)\n",
    "    documents.extend(loader.load())"
   ]
  },
  {
   "cell_type": "code",
   "execution_count": 7,
   "id": "5cea9faf",
   "metadata": {},
   "outputs": [
    {
     "name": "stdout",
     "output_type": "stream",
     "text": [
      "Split into 578 chunks\n"
     ]
    }
   ],
   "source": [
    "# Split the documents into chunks. To preserve the context, we use a chunk size of 500 characters and an overlap of 150 characters.\n",
    "# This means that each chunk will have 500 characters, and the next chunk will start 150 characters after the start of the previous chunk.\n",
    "text_splitter = RecursiveCharacterTextSplitter(chunk_size=500, \n",
    "                                               chunk_overlap=150, \n",
    "                                               length_function=len)\n",
    "\n",
    "\n",
    "docs = text_splitter.split_documents(documents)\n",
    "print(f\"Split into {len(docs)} chunks\")\n",
    "\n",
    "#print(f\"Document Metadata: {docs[0].metadata}...\") \n",
    "\n",
    "# Display the first 500 characters of the first chunk\n",
    "#print(f\"First chunk content: {docs[0].page_content[:500]}...\") "
   ]
  },
  {
   "cell_type": "code",
   "execution_count": 8,
   "id": "358a8dfd",
   "metadata": {},
   "outputs": [],
   "source": [
    "from langchain.vectorstores import FAISS\n",
    "\n",
    "#embeddings_model.embed_documents(docs[0].page_content)\n",
    "\n",
    "#In Memory - FAISS, croma\n",
    "#On Disk - Chroma, Weaviate, Pinecone, Qdrant, Milvus, Redis\n",
    "#Cloud - Pinecone, Weaviate, Qdrant, Milvus, Redis\n",
    "\n",
    "# In memory vector store\n",
    "# This will create a FAISS vector store in memory using the embeddings model\n",
    "vectorstore = FAISS.from_documents(docs, embeddings_model)\n",
    "\n",
    "# 1. Data retrieval\n",
    "#relevant_docs = vectorstore.similarity_search(\"Top Clients\", k=3)\n",
    "#print(relevant_docs[0].page_content)\n",
    "\n",
    "# 2. Generation Pipeline\n",
    "retriever = vectorstore.as_retriever(k=5)\n",
    "#retriever.invoke(\"key products and services\")"
   ]
  },
  {
   "cell_type": "code",
   "execution_count": 9,
   "id": "7f539453",
   "metadata": {},
   "outputs": [],
   "source": [
    "\n",
    "from langchain.prompts import PromptTemplate\n",
    "\n",
    "prompt_template = \"\"\"\n",
    "You are a helpful assistant. Use the following pieces of context to answer the question at the end.\n",
    "If you dont know the answer, just say that you don't know. Do not try to make up an answer.\n",
    "Contect : {context}\n",
    "Question: {question}\n",
    "Answer:\n",
    "\"\"\"\n",
    "\n",
    "prompt = PromptTemplate(template=prompt_template, input_variables=[\"context\", \"question\"])\n"
   ]
  },
  {
   "cell_type": "code",
   "execution_count": 10,
   "id": "dc196842",
   "metadata": {},
   "outputs": [],
   "source": [
    "def format_docs(docs):\n",
    "    return \"\\n\\n\".join([doc.page_content for doc in docs])"
   ]
  },
  {
   "cell_type": "code",
   "execution_count": 11,
   "id": "5df32642",
   "metadata": {},
   "outputs": [],
   "source": [
    "from langchain_core.output_parsers import StrOutputParser\n",
    "\n",
    "# Collect a question at runtime and pass it to RunnablePassthrough\n",
    "from langchain_core.runnables import RunnablePassthrough\n",
    "\n",
    "parser = StrOutputParser()\n",
    "\n",
    "# LCEL Format - Langcahin Expression Language\n",
    "# Define a RAG Chain\n",
    "rag_chain =({\"context\": retriever | format_docs, \"question\": RunnablePassthrough()}\n",
    "            | prompt\n",
    "            | llm\n",
    "            | parser)\n",
    "\n",
    "\n",
    "# Question passed to RunnablePassthrough\n",
    "#rag_chain.invoke(\"Who are the top clients of Aurora Dynamics?\")\n",
    "#rag_chain.invoke(\"Who is the founder of Aurora Dynamics?\")"
   ]
  },
  {
   "cell_type": "code",
   "execution_count": 12,
   "id": "d1b58864",
   "metadata": {},
   "outputs": [
    {
     "data": {
      "text/plain": [
       "'<think>\\nOkay, the user is asking, \"What is XP?\" I need to answer this based on the provided context.\\n\\nLooking at the context, the first thing mentioned is that XP stands for Extreme Programming, an agile software development methodology. The core values are Communication, Rapid feedback, Keep it simple, and I think there\\'s a fourth one, but the context only lists three here. Wait, the original mention says four core values, but the given text only shows three points. Let me check again.\\n\\nThe user\\'s context starts with Agile Development Methodology and then talks about XP. The note says XP has four core values and fourteen principles. The listed core values under the context are:\\n\\n1. Communication\\n2. Rapid feedback\\n3. Keep it simple\\n\\nWait, the user\\'s context only lists three core values here. The initial statement mentions four, but the text only shows three. Maybe there\\'s a typo or the fourth one is cut off. But in the provided text, the user\\'s context only shows three. So I should stick to what\\'s provided. \\n\\nSo the answer should state that XP is an agile methodology focusing on coding, with four core values (even though only three are listed here). The answer should mention the four core values as per the context, but since the context only lists three, perhaps there\\'s an error. Alternatively, maybe the fourth value is in the note but not in the provided text. Wait, the note says \"XP has these four core values\" but the bullet points only have three. That\\'s a problem. The user might have a typo in their context. But since the user\\'s answer is based strictly on the given context, I need to use what\\'s provided.\\n\\nSo, the answer should be: XP is an agile software development methodology that focuses on coding. It has four core values: Communication, Rapid feedback, Keep it simple, and ... but the context only lists three. Hmm. Maybe the fourth one is missing in the provided text. The user\\'s context shows three bullet points, but the initial statement mentions four. Since the user\\'s answer is based on the given context, perhaps the user intended to include three here. But the correct answer should include all four. However, since the context only shows three, perhaps the fourth is omitted due to incomplete data. \\n\\nWait, the user\\'s context under \"XP has these four core values\" lists three points. Let me check again. The first bullet is Communication, the second is Rapid feedback, the third is Keep it simple. Wait, the third one is \"Keep it simple\", but maybe there\\'s a fourth. However, in the provided text, after the Communication and Rapid feedback, the next is \"Keep it simple\". But the initial statement says four core values. So maybe there\\'s a mistake in the context. The user might have intended to list four but only included three. \\n\\nIn that case, the answer should list the three present in the context. The user\\'s answer should be based on the given context. So the answer should mention that XP is an agile methodology, part of agile software development, focusing on coding, with four core values (as stated), and the principles. However, the context only lists three core values. \\n\\nTherefore, the answer should be: XP is an agile software development methodology that focuses on coding. It has four core values: Communication, Rapid feedback, Keep it simple. (But since the context mentions four but only lists three, maybe the fourth is missing. However, the user might have intended to include three here.) \\n\\nWait, the user\\'s context says: \\n\\nXP has these four core values: \\n• Communication\\n• Rapid feedback\\n• Keep it simple\\n\\nBut that\\'s three points. The initial statement says four. So there\\'s an inconsistency here. The correct answer should reflect the information given, even if there\\'s a discrepancy. Therefore, the answer would list the three core values provided in the context, but mention that there are four core values. But that\\'s conflicting. \\n\\nAlternatively, maybe the user\\'s context is incomplete. Since the user provided the context, I have to use it as is. So the answer would be: XP is an agile software development methodology that focuses on coding. It has four core values: Communication, Rapid feedback, Keep it simple, and [missing]. However, since the context only lists three, perhaps the user intended to present three. \\n\\nBut the initial statement says four core values. Therefore, the answer must include that XP has four core values, but the text only lists three. But since the user\\'s answer is based on the context, I have to stick to the three listed. \\n\\nWait, the user\\'s context starts with \"XP has these four core values\" and lists three bullet points. That\\'s a mistake. But as the assistant, I should use the given context. So the answer should mention the three core values provided. So the final answer is:\\n\\nXP is an agile software development methodology that focuses on coding. It has four core values: Communication, Rapid feedback, and Keep it simple. However, the context provided only explicitly lists three core values, though it mentions there are four. The four core values are not all detailed here, but the listed ones are Communication, Rapid feedback, and Keep it simple.\\n\\nBut the user is asking for a concise answer. Since the context says four core values but only three are listed, perhaps the correct approach is to state the ones provided. So the answer should be:\\n\\nExtreme Programming (XP) is an agile software development methodology that emphasizes coding. Its core values include Communication, Rapid feedback, and Keep it simple. The context mentions there are four core values, but only three are explicitly listed here.\\n</think>\\n\\nExtreme Programming (XP) is an agile software development methodology that emphasizes coding. It has four core values, with the explicitly listed ones in the context being:  \\n1. **Communication**: Regular team communication to share information and solve problems efficiently.  \\n2. **Rapid feedback**: Receiving timely feedback from users to avoid confusion and reduce risks.  \\n3. **Keep it simple**: Prioritizing simplicity in design and processes.  \\n\\n(Note: The context mentions four core values but only provides three. The fourth value is not explicitly detailed in the provided text.)'"
      ]
     },
     "execution_count": 12,
     "metadata": {},
     "output_type": "execute_result"
    }
   ],
   "source": [
    "rag_chain.invoke(\"What is XP?\")"
   ]
  }
 ],
 "metadata": {
  "kernelspec": {
   "display_name": "Python 3",
   "language": "python",
   "name": "python3"
  },
  "language_info": {
   "codemirror_mode": {
    "name": "ipython",
    "version": 3
   },
   "file_extension": ".py",
   "mimetype": "text/x-python",
   "name": "python",
   "nbconvert_exporter": "python",
   "pygments_lexer": "ipython3",
   "version": "3.10.18"
  }
 },
 "nbformat": 4,
 "nbformat_minor": 5
}
