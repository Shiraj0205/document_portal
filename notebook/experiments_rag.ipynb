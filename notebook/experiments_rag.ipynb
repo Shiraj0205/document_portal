{
 "cells": [
  {
   "cell_type": "code",
   "execution_count": null,
   "id": "f531fa13",
   "metadata": {},
   "outputs": [],
   "source": [
    "# Load environment variables from .env file\n",
    "from dotenv import load_dotenv\n",
    "load_dotenv()"
   ]
  },
  {
   "cell_type": "code",
   "execution_count": 8,
   "id": "0f0ee6d6",
   "metadata": {},
   "outputs": [],
   "source": [
    "from langchain.document_loaders import PyPDFLoader\n",
    "from langchain.text_splitter import RecursiveCharacterTextSplitter\n",
    "import os"
   ]
  },
  {
   "cell_type": "code",
   "execution_count": null,
   "id": "7f5123b2",
   "metadata": {},
   "outputs": [
    {
     "name": "stdout",
     "output_type": "stream",
     "text": [
      "Loaded 6 documents\n"
     ]
    }
   ],
   "source": [
    "file_path = os.path.join(os.getcwd(), \"data\", \"AuroraDynamics.pdf\")\n",
    "loader = PyPDFLoader(file_path)\n",
    "documents = loader.load()\n",
    "\n",
    "print(f\"Loaded {len(documents)} documents\")"
   ]
  },
  {
   "cell_type": "code",
   "execution_count": null,
   "id": "5cea9faf",
   "metadata": {},
   "outputs": [
    {
     "name": "stdout",
     "output_type": "stream",
     "text": [
      "Split into 21 chunks\n",
      "Document Metadata: {'producer': 'Microsoft® Word 2021', 'creator': 'Microsoft® Word 2021', 'creationdate': '2025-07-14T19:24:03-05:00', 'author': 'Shiraj Shaikh', 'moddate': '2025-07-14T19:24:03-05:00', 'source': 'd:\\\\Data\\\\Projects\\\\document_portal\\\\notebook\\\\data\\\\AuroraDynamics.pdf', 'total_pages': 6, 'page': 0, 'page_label': '1'}...\n"
     ]
    }
   ],
   "source": [
    "# Split the documents into chunks. To preserve the context, we use a chunk size of 500 characters and an overlap of 150 characters.\n",
    "# This means that each chunk will have 500 characters, and the next chunk will start 150 characters after the start of the previous chunk.\n",
    "text_splitter = RecursiveCharacterTextSplitter(chunk_size=500, \n",
    "                                               chunk_overlap=150, \n",
    "                                               length_function=len)\n",
    "\n",
    "\n",
    "docs = text_splitter.split_documents(documents)\n",
    "print(f\"Split into {len(docs)} chunks\")\n",
    "\n",
    "#print(f\"Document Metadata: {docs[0].metadata}...\") \n",
    "\n",
    "# Display the first 500 characters of the first chunk\n",
    "#print(f\"First chunk content: {docs[0].page_content[:500]}...\") "
   ]
  }
 ],
 "metadata": {
  "kernelspec": {
   "display_name": "env",
   "language": "python",
   "name": "python3"
  },
  "language_info": {
   "codemirror_mode": {
    "name": "ipython",
    "version": 3
   },
   "file_extension": ".py",
   "mimetype": "text/x-python",
   "name": "python",
   "nbconvert_exporter": "python",
   "pygments_lexer": "ipython3",
   "version": "3.10.18"
  }
 },
 "nbformat": 4,
 "nbformat_minor": 5
}
